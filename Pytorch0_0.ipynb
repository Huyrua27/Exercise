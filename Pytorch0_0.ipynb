{
  "nbformat": 4,
  "nbformat_minor": 0,
  "metadata": {
    "colab": {
      "provenance": [],
      "gpuType": "T4",
      "authorship_tag": "ABX9TyPb7YDxMELRo+twDfjCveWK",
      "include_colab_link": true
    },
    "kernelspec": {
      "name": "python3",
      "display_name": "Python 3"
    },
    "language_info": {
      "name": "python"
    },
    "accelerator": "GPU"
  },
  "cells": [
    {
      "cell_type": "markdown",
      "metadata": {
        "id": "view-in-github",
        "colab_type": "text"
      },
      "source": [
        "<a href=\"https://colab.research.google.com/github/Huyrua27/Exercise/blob/main/Pytorch0_0.ipynb\" target=\"_parent\"><img src=\"https://colab.research.google.com/assets/colab-badge.svg\" alt=\"Open In Colab\"/></a>"
      ]
    },
    {
      "cell_type": "code",
      "execution_count": null,
      "metadata": {
        "id": "hTepybfdDD4N"
      },
      "outputs": [],
      "source": []
    },
    {
      "cell_type": "code",
      "source": [
        "#Tạo tensor ngẫu nhiên (7,7)\n",
        "import torch\n",
        "\n",
        "random_tensor = torch.rand(7,7)\n",
        "print(random_tensor)"
      ],
      "metadata": {
        "colab": {
          "base_uri": "https://localhost:8080/"
        },
        "collapsed": true,
        "id": "5Lf_KjxVDHYM",
        "outputId": "38c788c3-88e8-4a33-9a9b-eb9546796ec3"
      },
      "execution_count": 7,
      "outputs": [
        {
          "output_type": "stream",
          "name": "stdout",
          "text": [
            "tensor([[0.8427, 0.5293, 0.7054, 0.2738, 0.2202, 0.7664, 0.7759],\n",
            "        [0.1268, 0.5552, 0.5128, 0.9999, 0.8191, 0.5092, 0.3252],\n",
            "        [0.3001, 0.6353, 0.7503, 0.3015, 0.9431, 0.6886, 0.5176],\n",
            "        [0.6985, 0.4326, 0.2728, 0.1949, 0.4790, 0.9576, 0.8689],\n",
            "        [0.1595, 0.1049, 0.6360, 0.4550, 0.2546, 0.7728, 0.4109],\n",
            "        [0.5565, 0.9028, 0.2486, 0.6102, 0.8888, 0.8750, 0.5207],\n",
            "        [0.0282, 0.1672, 0.9417, 0.2123, 0.2488, 0.4988, 0.2538]])\n"
          ]
        }
      ]
    },
    {
      "cell_type": "code",
      "source": [
        "#Phép nhân ma trận\n",
        "\n",
        "second_tensor = torch.rand(1, 7)\n",
        "print(second_tensor)\n",
        "res = torch.matmul(random_tensor, second_tensor.T)\n",
        "print(res)"
      ],
      "metadata": {
        "colab": {
          "base_uri": "https://localhost:8080/"
        },
        "id": "D9sZ2X8AEEPE",
        "outputId": "df0a4212-6115-4f49-ab1b-f4a3cf7930c6"
      },
      "execution_count": 9,
      "outputs": [
        {
          "output_type": "stream",
          "name": "stdout",
          "text": [
            "tensor([[0.0637, 0.4237, 0.0928, 0.2896, 0.5341, 0.9038, 0.6685]])\n",
            "tensor([[1.7517],\n",
            "        [1.6956],\n",
            "        [1.9174],\n",
            "        [2.0118],\n",
            "        [1.3546],\n",
            "        [2.2314],\n",
            "        [0.9749]])\n"
          ]
        }
      ]
    },
    {
      "cell_type": "code",
      "source": [
        "#seed\n",
        "torch.manual_seed(0)\n",
        "\n",
        "random_tensor_seed =  torch.rand(7, 7)\n",
        "print(\"Tensor 1:\")\n",
        "print(random_tensor_seed)\n",
        "\n",
        "sedrandomseed = torch.rand(1, 7)\n",
        "print(\"Tensor 2:\")\n",
        "print(sedrandomseed)\n",
        "\n",
        "result = torch.matmul(random_tensor_seed, sedrandomseed.T)\n",
        "print(\"Result :\")\n",
        "print(result)"
      ],
      "metadata": {
        "colab": {
          "base_uri": "https://localhost:8080/"
        },
        "id": "mTGCqRADEdww",
        "outputId": "a31f770f-728e-4cda-9c76-fe69186e83a1"
      },
      "execution_count": 10,
      "outputs": [
        {
          "output_type": "stream",
          "name": "stdout",
          "text": [
            "Tensor 1:\n",
            "tensor([[0.4963, 0.7682, 0.0885, 0.1320, 0.3074, 0.6341, 0.4901],\n",
            "        [0.8964, 0.4556, 0.6323, 0.3489, 0.4017, 0.0223, 0.1689],\n",
            "        [0.2939, 0.5185, 0.6977, 0.8000, 0.1610, 0.2823, 0.6816],\n",
            "        [0.9152, 0.3971, 0.8742, 0.4194, 0.5529, 0.9527, 0.0362],\n",
            "        [0.1852, 0.3734, 0.3051, 0.9320, 0.1759, 0.2698, 0.1507],\n",
            "        [0.0317, 0.2081, 0.9298, 0.7231, 0.7423, 0.5263, 0.2437],\n",
            "        [0.5846, 0.0332, 0.1387, 0.2422, 0.8155, 0.7932, 0.2783]])\n",
            "Tensor 2:\n",
            "tensor([[0.4820, 0.8198, 0.9971, 0.6984, 0.5675, 0.8352, 0.2056]])\n",
            "Result :\n",
            "tensor([[1.8542],\n",
            "        [1.9611],\n",
            "        [2.2884],\n",
            "        [3.0481],\n",
            "        [1.7067],\n",
            "        [2.5290],\n",
            "        [1.7989]])\n"
          ]
        }
      ]
    },
    {
      "cell_type": "code",
      "source": [
        "import torch\n",
        "#Đặt seed cho GPU\n",
        "torch.cuda.manual_seed(1234)\n",
        "\n",
        "torch.manual_seed(1234)\n",
        "\n",
        "tensor_1 = torch.rand(2, 3)\n",
        "tensor_2 = torch.rand(2, 3)\n",
        "\n",
        "if torch.cuda.is_available():\n",
        "  tensor_1 = tensor_1.to('cuda')\n",
        "  tensor_2 = tensor_2.to('cuda')\n",
        "  print(\"All tensor have been moved to GPU\")\n",
        "else:\n",
        "  print(\"GPU is not available\")\n",
        "\n",
        "print(\"Tensor_1\", tensor_1)\n",
        "print(\"Tensor_2\", tensor_2)\n"
      ],
      "metadata": {
        "colab": {
          "base_uri": "https://localhost:8080/"
        },
        "id": "Zx5LdjeMFjtK",
        "outputId": "576d4717-d826-4ae9-e56e-77bd5af3b07a"
      },
      "execution_count": 3,
      "outputs": [
        {
          "output_type": "stream",
          "name": "stdout",
          "text": [
            "All tensor have been moved to GPU\n",
            "Tensor_1 tensor([[0.0290, 0.4019, 0.2598],\n",
            "        [0.3666, 0.0583, 0.7006]], device='cuda:0')\n",
            "Tensor_2 tensor([[0.0518, 0.4681, 0.6738],\n",
            "        [0.3315, 0.7837, 0.5631]], device='cuda:0')\n"
          ]
        }
      ]
    },
    {
      "cell_type": "code",
      "source": [
        "#Phép nhân matrix trên gpu\n",
        "\n",
        "matrix_product = torch.matmul(tensor_1, tensor_2.T)\n",
        "print(\"Result:\", matrix_product)"
      ],
      "metadata": {
        "colab": {
          "base_uri": "https://localhost:8080/"
        },
        "id": "9Ig_DFsWHX-Q",
        "outputId": "becd753d-2691-48ab-8a0d-7bd9311372b3"
      },
      "execution_count": 4,
      "outputs": [
        {
          "output_type": "stream",
          "name": "stdout",
          "text": [
            "Result: tensor([[0.3647, 0.4709],\n",
            "        [0.5184, 0.5617]], device='cuda:0')\n"
          ]
        }
      ]
    },
    {
      "cell_type": "code",
      "source": [
        "#MIN MAX\n",
        "\n",
        "maxval = torch.max(matrix_product)\n",
        "minval = torch.min(matrix_product)\n",
        "\n",
        "print(\"Max value is \", maxval.item())\n",
        "print(\"Min value is \", minval.item())"
      ],
      "metadata": {
        "colab": {
          "base_uri": "https://localhost:8080/"
        },
        "id": "bEolDfR9HsGc",
        "outputId": "ba507479-11e2-4b68-bf9b-710a43d09afc"
      },
      "execution_count": 6,
      "outputs": [
        {
          "output_type": "stream",
          "name": "stdout",
          "text": [
            "Max value is  0.5617256760597229\n",
            "Min value is  0.3647301495075226\n"
          ]
        }
      ]
    },
    {
      "cell_type": "code",
      "source": [
        "#Max min Index\n",
        "\n",
        "maxindex = torch.argmax(matrix_product)\n",
        "minindex = torch.argmin(matrix_product)\n",
        "\n",
        "print(\"Max index is \", maxindex.item())\n",
        "print(\"Min index is \", minindex.item())"
      ],
      "metadata": {
        "colab": {
          "base_uri": "https://localhost:8080/"
        },
        "id": "GfoMZYxEIMbR",
        "outputId": "a41ad679-4f72-479e-924d-2fba4a68210c"
      },
      "execution_count": 7,
      "outputs": [
        {
          "output_type": "stream",
          "name": "stdout",
          "text": [
            "Max index is  3\n",
            "Min index is  0\n"
          ]
        }
      ]
    },
    {
      "cell_type": "code",
      "source": [
        "#Tạo tensor và loại bỏ shape có kích thước 1\n",
        "torch.manual_seed(7)\n",
        "\n",
        "tensor_with_ones = torch.rand(1, 1, 1, 10)\n",
        "print(\"Tensor ban dau:\", tensor_with_ones)\n",
        "print(\"Shape ban dau: \", tensor_with_ones.shape)\n",
        "\n",
        "#Loại bỏ shape 1\n",
        "\n",
        "squeezed_tensor = tensor_with_ones.squeeze()\n",
        "print(\"Tensor sau khi loại bo shape 1 \", squeezed_tensor)\n",
        "print(\"Shape sau khi squeeze: \", squeezed_tensor.shape)"
      ],
      "metadata": {
        "colab": {
          "base_uri": "https://localhost:8080/"
        },
        "id": "z47j-O98IlCZ",
        "outputId": "9a5ab9e9-19ab-4968-c2aa-d79788336286"
      },
      "execution_count": 8,
      "outputs": [
        {
          "output_type": "stream",
          "name": "stdout",
          "text": [
            "Tensor ban dau: tensor([[[[0.5349, 0.1988, 0.6592, 0.6569, 0.2328, 0.4251, 0.2071, 0.6297,\n",
            "           0.3653, 0.8513]]]])\n",
            "Shape ban dau:  torch.Size([1, 1, 1, 10])\n",
            "Tensor sau khi loại bo shape 1  tensor([0.5349, 0.1988, 0.6592, 0.6569, 0.2328, 0.4251, 0.2071, 0.6297, 0.3653,\n",
            "        0.8513])\n",
            "Shape sau khi squeeze:  torch.Size([10])\n"
          ]
        }
      ]
    }
  ]
}