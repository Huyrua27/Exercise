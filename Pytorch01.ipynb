{
  "nbformat": 4,
  "nbformat_minor": 0,
  "metadata": {
    "colab": {
      "provenance": [],
      "authorship_tag": "ABX9TyPANNmxOUtNZgLF0yJbQNKL",
      "include_colab_link": true
    },
    "kernelspec": {
      "name": "python3",
      "display_name": "Python 3"
    },
    "language_info": {
      "name": "python"
    }
  },
  "cells": [
    {
      "cell_type": "markdown",
      "metadata": {
        "id": "view-in-github",
        "colab_type": "text"
      },
      "source": [
        "<a href=\"https://colab.research.google.com/github/Huyrua27/Exercise/blob/main/Pytorch01.ipynb\" target=\"_parent\"><img src=\"https://colab.research.google.com/assets/colab-badge.svg\" alt=\"Open In Colab\"/></a>"
      ]
    },
    {
      "cell_type": "code",
      "execution_count": null,
      "metadata": {
        "id": "C5klSgT5K6FF"
      },
      "outputs": [],
      "source": []
    },
    {
      "cell_type": "code",
      "source": [
        "#Thư viện\n",
        "import torch\n",
        "import torch.nn as nn\n",
        "import matplotlib.pyplot as plt\n",
        "import numpy as np\n",
        "from torch.utils.data import TensorDataset, DataLoader\n",
        "import os\n",
        "\n",
        "# Cài đặt thiết bị để code có thể chạy trên cả CPU và GPU\n",
        "device = torch.device(\"cuda\" if torch.cuda.is_available() else \"cpu\")\n",
        "print(f\"Sử dụng thiết bị: {device}\")\n"
      ],
      "metadata": {
        "colab": {
          "base_uri": "https://localhost:8080/"
        },
        "id": "2FLNVe8mLRIX",
        "outputId": "03987e26-09e2-4928-ef7f-fb73922a65a9"
      },
      "execution_count": 1,
      "outputs": [
        {
          "output_type": "stream",
          "name": "stdout",
          "text": [
            "Sử dụng thiết bị: cpu\n"
          ]
        }
      ]
    },
    {
      "cell_type": "code",
      "source": [
        "#1. Tạo dataset đường thẳng\n",
        "def create_dataset_linear(w = 0.3, bias = 0.9, num_samples=100, train_split=0.8, seed=42):\n",
        "  torch.manual_seed(seed)\n",
        "  if torch.cuda.is_available():\n",
        "    torch.cuda.manual_seed(seed)\n",
        "\n",
        "  #Tạo input\n",
        "  X = torch.linspace(0, 1, num_samples).reshape(-1, 1)\n",
        "\n",
        "  #Tạo nhãn Y với nhiễu\n",
        "  y = w*X + bias + 0.1*torch.randn_like(X)\n",
        "\n",
        "  #Chia data thành settrain và settest\n",
        "  train_size = int(num_samples*train_split)\n",
        "  X_train, X_test = X[:train_size], X[train_size:]\n",
        "  y_train, y_test = y[:train_size], y[train_size:]\n",
        "\n",
        "  #Chuyển data đến device\n",
        "  X_train, X_test = X_train.to(device), X_test.to(device)\n",
        "  y_train, y_test = y_train.to(device), y_test.to(device)\n",
        "\n",
        "  return X_train, y_train, X_test, y_test\n",
        "\n",
        "def plot_data(X_train, y_train, X_test, y_test, predictions=None, title=\"Data linear\"):\n",
        "  # Chuyển dữ liệu về CPU để vẽ bằng matplotlib\n",
        "    X_train_cpu = X_train.cpu().numpy()\n",
        "    y_train_cpu = y_train.cpu().numpy()\n",
        "    X_test_cpu = X_test.cpu().numpy()\n",
        "    y_test_cpu = y_test.cpu().numpy()\n",
        "\n",
        "    plt.figure(figsize=(10,6))\n",
        "    plt.scatter(X_train_cpu, y_train_cpu, color='blue', label=\"Data train\")\n",
        "    plt.scatter(X_test_cpu, y_test_cpu, color='red', label=\"Data test\")\n",
        "\n",
        "    if predictions is not None:\n",
        "        predictions_cpu = predictions.cpu().numpy()\n",
        "        plt.scatter(X_test_cpu, predictions_cpu, color='green', label='Predictions')\n",
        "\n",
        "    plt.title(title)\n",
        "    plt.xlabel('X')\n",
        "    plt.ylabel('y')\n",
        "    plt.legend()\n",
        "    plt.grid(True)\n",
        "    plt.show()\n"
      ],
      "metadata": {
        "id": "6-h7oD_cLi7x"
      },
      "execution_count": 12,
      "outputs": []
    }
  ]
}